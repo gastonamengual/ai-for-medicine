{
 "cells": [
  {
   "cell_type": "markdown",
   "metadata": {},
   "source": [
    "# Childhood Autistic Spectrum Disorder Screening Prediction"
   ]
  },
  {
   "cell_type": "code",
   "execution_count": 1,
   "metadata": {},
   "outputs": [],
   "source": [
    "import numpy as np\n",
    "import pandas as pd\n",
    "\n",
    "from sklearn.model_selection import train_test_split\n",
    "from sklearn.metrics import classification_report, accuracy_score\n",
    "\n",
    "from keras.models import Sequential\n",
    "from keras.layers import Dense"
   ]
  },
  {
   "cell_type": "markdown",
   "metadata": {},
   "source": [
    "## Autism\n",
    "\n",
    "Autism Spectrum Disorder is a neurodevelopment condition characterized by challengers with social skills, repetitive behaviors, speech, and nonverbal communication. The early diagnosis of neurodevelopment disorders can improve treatment and significantly decrease the associated healthcare costs.\n",
    "\n",
    "<img src=\"https://lirp.cdn-website.com/86df2c99/dms3rep/multi/opt/ASD-640w.png\" style=\"width:30%;\"/>"
   ]
  },
  {
   "cell_type": "markdown",
   "metadata": {},
   "source": [
    "## Data set\n",
    "\n",
    "The [Autistic Spectrum Disorder Screening Data for Children Data Set](https://archive.ics.uci.edu/ml/datasets/Autistic+Spectrum+Disorder+Screening+Data+for+Children++) will be used, which contains screening data for 292 patients. The attributes are:\n",
    "\n",
    "* Age\n",
    "* Gender\n",
    "* Ethnicity\n",
    "* Born with jaundice\n",
    "* Family member with PDD (pervasive developmental disorders)\n",
    "* Who is completing the test (parent, self, caregiver, medical staff, clinician)\n",
    "* Country of residence \n",
    "* Used the screening app before \n",
    "* Screening Method Type based on age category (0=toddler, 1=child, 2= adolescent, 3= adult)\n",
    "* Question 1 Answer \n",
    "* Question 2 Answer \n",
    "* Question 3 Answer \n",
    "* Question 4 Answer \n",
    "* Question 5 Answer \n",
    "* Question 6 Answer \n",
    "* Question 7 Answer \n",
    "* Question 8 Answer \n",
    "* Question 9 Answer \n",
    "* Question 10 Answer \n",
    "* Screening Score "
   ]
  },
  {
   "cell_type": "code",
   "execution_count": 2,
   "metadata": {},
   "outputs": [],
   "source": [
    "df = pd.read_csv('utils/autism_data.csv')"
   ]
  },
  {
   "cell_type": "code",
   "execution_count": 3,
   "metadata": {
    "tags": []
   },
   "outputs": [
    {
     "name": "stdout",
     "output_type": "stream",
     "text": [
      "Shape: (292, 21)\n"
     ]
    },
    {
     "data": {
      "text/html": [
       "<div>\n",
       "<style scoped>\n",
       "    .dataframe tbody tr th:only-of-type {\n",
       "        vertical-align: middle;\n",
       "    }\n",
       "\n",
       "    .dataframe tbody tr th {\n",
       "        vertical-align: top;\n",
       "    }\n",
       "\n",
       "    .dataframe thead th {\n",
       "        text-align: right;\n",
       "    }\n",
       "</style>\n",
       "<table border=\"1\" class=\"dataframe\">\n",
       "  <thead>\n",
       "    <tr style=\"text-align: right;\">\n",
       "      <th></th>\n",
       "      <th>A1_Score</th>\n",
       "      <th>A2_Score</th>\n",
       "      <th>A3_Score</th>\n",
       "      <th>A4_Score</th>\n",
       "      <th>A5_Score</th>\n",
       "      <th>A6_Score</th>\n",
       "      <th>A7_Score</th>\n",
       "      <th>A8_Score</th>\n",
       "      <th>A9_Score</th>\n",
       "      <th>A10_Score</th>\n",
       "      <th>...</th>\n",
       "      <th>gender</th>\n",
       "      <th>ethnicity</th>\n",
       "      <th>jundice</th>\n",
       "      <th>austim</th>\n",
       "      <th>contry_of_res</th>\n",
       "      <th>used_app_before</th>\n",
       "      <th>result</th>\n",
       "      <th>age_desc</th>\n",
       "      <th>relation</th>\n",
       "      <th>Class/ASD</th>\n",
       "    </tr>\n",
       "  </thead>\n",
       "  <tbody>\n",
       "    <tr>\n",
       "      <th>0</th>\n",
       "      <td>1</td>\n",
       "      <td>1</td>\n",
       "      <td>0</td>\n",
       "      <td>0</td>\n",
       "      <td>1</td>\n",
       "      <td>1</td>\n",
       "      <td>0</td>\n",
       "      <td>1</td>\n",
       "      <td>0</td>\n",
       "      <td>0</td>\n",
       "      <td>...</td>\n",
       "      <td>m</td>\n",
       "      <td>Others</td>\n",
       "      <td>no</td>\n",
       "      <td>no</td>\n",
       "      <td>Jordan</td>\n",
       "      <td>no</td>\n",
       "      <td>5.0</td>\n",
       "      <td>4-11 years</td>\n",
       "      <td>Parent</td>\n",
       "      <td>NO</td>\n",
       "    </tr>\n",
       "    <tr>\n",
       "      <th>1</th>\n",
       "      <td>1</td>\n",
       "      <td>1</td>\n",
       "      <td>0</td>\n",
       "      <td>0</td>\n",
       "      <td>1</td>\n",
       "      <td>1</td>\n",
       "      <td>0</td>\n",
       "      <td>1</td>\n",
       "      <td>0</td>\n",
       "      <td>0</td>\n",
       "      <td>...</td>\n",
       "      <td>m</td>\n",
       "      <td>Middle Eastern</td>\n",
       "      <td>no</td>\n",
       "      <td>no</td>\n",
       "      <td>Jordan</td>\n",
       "      <td>no</td>\n",
       "      <td>5.0</td>\n",
       "      <td>4-11 years</td>\n",
       "      <td>Parent</td>\n",
       "      <td>NO</td>\n",
       "    </tr>\n",
       "    <tr>\n",
       "      <th>2</th>\n",
       "      <td>1</td>\n",
       "      <td>1</td>\n",
       "      <td>0</td>\n",
       "      <td>0</td>\n",
       "      <td>0</td>\n",
       "      <td>1</td>\n",
       "      <td>1</td>\n",
       "      <td>1</td>\n",
       "      <td>0</td>\n",
       "      <td>0</td>\n",
       "      <td>...</td>\n",
       "      <td>m</td>\n",
       "      <td>?</td>\n",
       "      <td>no</td>\n",
       "      <td>no</td>\n",
       "      <td>Jordan</td>\n",
       "      <td>yes</td>\n",
       "      <td>5.0</td>\n",
       "      <td>4-11 years</td>\n",
       "      <td>?</td>\n",
       "      <td>NO</td>\n",
       "    </tr>\n",
       "    <tr>\n",
       "      <th>3</th>\n",
       "      <td>0</td>\n",
       "      <td>1</td>\n",
       "      <td>0</td>\n",
       "      <td>0</td>\n",
       "      <td>1</td>\n",
       "      <td>1</td>\n",
       "      <td>0</td>\n",
       "      <td>0</td>\n",
       "      <td>0</td>\n",
       "      <td>1</td>\n",
       "      <td>...</td>\n",
       "      <td>f</td>\n",
       "      <td>?</td>\n",
       "      <td>yes</td>\n",
       "      <td>no</td>\n",
       "      <td>Jordan</td>\n",
       "      <td>no</td>\n",
       "      <td>4.0</td>\n",
       "      <td>4-11 years</td>\n",
       "      <td>?</td>\n",
       "      <td>NO</td>\n",
       "    </tr>\n",
       "    <tr>\n",
       "      <th>4</th>\n",
       "      <td>1</td>\n",
       "      <td>1</td>\n",
       "      <td>1</td>\n",
       "      <td>1</td>\n",
       "      <td>1</td>\n",
       "      <td>1</td>\n",
       "      <td>1</td>\n",
       "      <td>1</td>\n",
       "      <td>1</td>\n",
       "      <td>1</td>\n",
       "      <td>...</td>\n",
       "      <td>m</td>\n",
       "      <td>Others</td>\n",
       "      <td>yes</td>\n",
       "      <td>no</td>\n",
       "      <td>United States</td>\n",
       "      <td>no</td>\n",
       "      <td>10.0</td>\n",
       "      <td>4-11 years</td>\n",
       "      <td>Parent</td>\n",
       "      <td>YES</td>\n",
       "    </tr>\n",
       "  </tbody>\n",
       "</table>\n",
       "<p>5 rows × 21 columns</p>\n",
       "</div>"
      ],
      "text/plain": [
       "   A1_Score  A2_Score  A3_Score  A4_Score  A5_Score  A6_Score  A7_Score  \\\n",
       "0         1         1         0         0         1         1         0   \n",
       "1         1         1         0         0         1         1         0   \n",
       "2         1         1         0         0         0         1         1   \n",
       "3         0         1         0         0         1         1         0   \n",
       "4         1         1         1         1         1         1         1   \n",
       "\n",
       "   A8_Score  A9_Score  A10_Score  ...  gender        ethnicity jundice austim  \\\n",
       "0         1         0          0  ...       m           Others      no     no   \n",
       "1         1         0          0  ...       m  Middle Eastern       no     no   \n",
       "2         1         0          0  ...       m                ?      no     no   \n",
       "3         0         0          1  ...       f                ?     yes     no   \n",
       "4         1         1          1  ...       m           Others     yes     no   \n",
       "\n",
       "   contry_of_res used_app_before result    age_desc relation Class/ASD  \n",
       "0         Jordan              no    5.0  4-11 years   Parent        NO  \n",
       "1         Jordan              no    5.0  4-11 years   Parent        NO  \n",
       "2         Jordan             yes    5.0  4-11 years        ?        NO  \n",
       "3         Jordan              no    4.0  4-11 years        ?        NO  \n",
       "4  United States              no   10.0  4-11 years   Parent       YES  \n",
       "\n",
       "[5 rows x 21 columns]"
      ]
     },
     "execution_count": 3,
     "metadata": {},
     "output_type": "execute_result"
    }
   ],
   "source": [
    "print(f'Shape: {df.shape}')\n",
    "df.head()"
   ]
  },
  {
   "cell_type": "markdown",
   "metadata": {},
   "source": [
    "## Data Preprocessing"
   ]
  },
  {
   "cell_type": "code",
   "execution_count": 4,
   "metadata": {},
   "outputs": [],
   "source": [
    "df = df.drop(['result', 'age_desc'], axis=1)\n",
    "df.dropna(inplace=True)\n",
    "df.replace('?',-99999, inplace=True)"
   ]
  },
  {
   "cell_type": "code",
   "execution_count": 5,
   "metadata": {},
   "outputs": [],
   "source": [
    "X = df.drop(['Class/ASD'], axis=1)\n",
    "y = df['Class/ASD']"
   ]
  },
  {
   "cell_type": "code",
   "execution_count": 6,
   "metadata": {},
   "outputs": [],
   "source": [
    "X_hot_encoded = pd.get_dummies(X).to_numpy()\n",
    "Y_hot_encoded = pd.get_dummies(y).to_numpy()"
   ]
  },
  {
   "cell_type": "code",
   "execution_count": 7,
   "metadata": {},
   "outputs": [],
   "source": [
    "X_train, X_test, Y_train, Y_test = train_test_split(X_hot_encoded, Y_hot_encoded, test_size = 0.2)"
   ]
  },
  {
   "cell_type": "markdown",
   "metadata": {},
   "source": [
    "## Neural Network Model"
   ]
  },
  {
   "cell_type": "code",
   "execution_count": 20,
   "metadata": {},
   "outputs": [],
   "source": [
    "model = Sequential([\n",
    "    Dense(16, input_dim=88, kernel_initializer='normal', activation='relu'),\n",
    "    Dense(8, kernel_initializer='normal', activation='relu'),\n",
    "    Dense(4, kernel_initializer='normal', activation='relu'),\n",
    "    Dense(2, activation='softmax'),\n",
    "])\n",
    "\n",
    "model.compile(loss='categorical_crossentropy', optimizer='adam', metrics=['accuracy'])"
   ]
  },
  {
   "cell_type": "markdown",
   "metadata": {},
   "source": [
    "### Train"
   ]
  },
  {
   "cell_type": "code",
   "execution_count": 21,
   "metadata": {
    "tags": []
   },
   "outputs": [
    {
     "data": {
      "text/plain": [
       "<keras.callbacks.History at 0x19ebb16c3d0>"
      ]
     },
     "execution_count": 21,
     "metadata": {},
     "output_type": "execute_result"
    }
   ],
   "source": [
    "model.fit(X_train, Y_train, epochs=100, batch_size=5, verbose=0)"
   ]
  },
  {
   "cell_type": "markdown",
   "metadata": {},
   "source": [
    "### Test"
   ]
  },
  {
   "cell_type": "code",
   "execution_count": 22,
   "metadata": {},
   "outputs": [],
   "source": [
    "Y_pred = np.round(model.predict(X_test)).astype(int)[:, 0]"
   ]
  },
  {
   "cell_type": "code",
   "execution_count": 23,
   "metadata": {},
   "outputs": [
    {
     "name": "stdout",
     "output_type": "stream",
     "text": [
      "Accuracy: 0.86\n",
      "\n",
      "              precision    recall  f1-score   support\n",
      "\n",
      "           0       0.86      0.86      0.86        28\n",
      "           1       0.87      0.87      0.87        30\n",
      "\n",
      "    accuracy                           0.86        58\n",
      "   macro avg       0.86      0.86      0.86        58\n",
      "weighted avg       0.86      0.86      0.86        58\n",
      "\n"
     ]
    }
   ],
   "source": [
    "print(f'Accuracy: {accuracy_score(Y_test[:, 0], Y_pred):.2f}\\n')\n",
    "print(classification_report(Y_test[:, 0], Y_pred))"
   ]
  }
 ],
 "metadata": {
  "kernelspec": {
   "display_name": "Python 3",
   "language": "python",
   "name": "python3"
  },
  "language_info": {
   "codemirror_mode": {
    "name": "ipython",
    "version": 3
   },
   "file_extension": ".py",
   "mimetype": "text/x-python",
   "name": "python",
   "nbconvert_exporter": "python",
   "pygments_lexer": "ipython3",
   "version": "3.8.10"
  }
 },
 "nbformat": 4,
 "nbformat_minor": 4
}
