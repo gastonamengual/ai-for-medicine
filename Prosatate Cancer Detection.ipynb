{
 "cells": [
  {
   "cell_type": "markdown",
   "id": "d0db8d9f",
   "metadata": {},
   "source": [
    "# Prostate Cancer Detection"
   ]
  },
  {
   "cell_type": "code",
   "execution_count": 28,
   "id": "4d7a4c4f",
   "metadata": {},
   "outputs": [],
   "source": [
    "import numpy as np\n",
    "import pandas as pd\n",
    "import matplotlib.pyplot as plt\n",
    "import seaborn as sns\n",
    "\n",
    "from tqdm.notebook import tqdm\n",
    "\n",
    "from sklearn.preprocessing import StandardScaler, PolynomialFeatures\n",
    "from sklearn.model_selection import train_test_split, RepeatedStratifiedKFold, cross_validate\n",
    "from sklearn.metrics import f1_score, plot_roc_curve\n",
    "\n",
    "from sklearn.dummy import DummyClassifier\n",
    "from sklearn.discriminant_analysis import LinearDiscriminantAnalysis as LDA\n",
    "from sklearn.ensemble import RandomForestClassifier as RF, AdaBoostClassifier as AB, GradientBoostingClassifier as GB\n",
    "from sklearn.linear_model import LogisticRegression as LR\n",
    "from sklearn.naive_bayes import GaussianNB as NB\n",
    "from sklearn.neighbors import KNeighborsClassifier as kNN\n",
    "from sklearn.svm import SVC\n",
    "from sklearn.tree import DecisionTreeClassifier as DT"
   ]
  },
  {
   "cell_type": "code",
   "execution_count": 2,
   "id": "85cc9585",
   "metadata": {},
   "outputs": [],
   "source": [
    "plt.style.use(\"bmh\")\n",
    "config = {'figure.figsize': (16, 4), \n",
    "          'axes.titlesize': 18, \n",
    "          'axes.labelsize': 14, \n",
    "          'lines.linewidth': 2, \n",
    "          'lines.markersize': 10, \n",
    "          'xtick.labelsize': 10,\n",
    "          'ytick.labelsize': 10, \n",
    "          'axes.prop_cycle': plt.cycler(color=[\"darkmagenta\", \"saddlebrown\", \"darkcyan\", \"olivedrab\", \"darkseagreen\", \"darkkhaki\", \"darkgoldenrod\", \"deepskyblue\", \"firebrick\", \"palevioletred\"]),}\n",
    "plt.rcParams.update(config)"
   ]
  },
  {
   "cell_type": "markdown",
   "id": "131e0959",
   "metadata": {},
   "source": [
    "# Data Preprocessing"
   ]
  },
  {
   "cell_type": "code",
   "execution_count": 3,
   "id": "f85ee824",
   "metadata": {},
   "outputs": [
    {
     "data": {
      "text/html": [
       "<div>\n",
       "<style scoped>\n",
       "    .dataframe tbody tr th:only-of-type {\n",
       "        vertical-align: middle;\n",
       "    }\n",
       "\n",
       "    .dataframe tbody tr th {\n",
       "        vertical-align: top;\n",
       "    }\n",
       "\n",
       "    .dataframe thead th {\n",
       "        text-align: right;\n",
       "    }\n",
       "</style>\n",
       "<table border=\"1\" class=\"dataframe\">\n",
       "  <thead>\n",
       "    <tr style=\"text-align: right;\">\n",
       "      <th></th>\n",
       "      <th>diagnosis_result</th>\n",
       "      <th>radius</th>\n",
       "      <th>texture</th>\n",
       "      <th>perimeter</th>\n",
       "      <th>area</th>\n",
       "      <th>smoothness</th>\n",
       "      <th>compactness</th>\n",
       "      <th>symmetry</th>\n",
       "      <th>fractal_dimension</th>\n",
       "    </tr>\n",
       "    <tr>\n",
       "      <th>id</th>\n",
       "      <th></th>\n",
       "      <th></th>\n",
       "      <th></th>\n",
       "      <th></th>\n",
       "      <th></th>\n",
       "      <th></th>\n",
       "      <th></th>\n",
       "      <th></th>\n",
       "      <th></th>\n",
       "    </tr>\n",
       "  </thead>\n",
       "  <tbody>\n",
       "    <tr>\n",
       "      <th>1</th>\n",
       "      <td>M</td>\n",
       "      <td>23</td>\n",
       "      <td>12</td>\n",
       "      <td>151</td>\n",
       "      <td>954</td>\n",
       "      <td>0.143</td>\n",
       "      <td>0.278</td>\n",
       "      <td>0.242</td>\n",
       "      <td>0.079</td>\n",
       "    </tr>\n",
       "    <tr>\n",
       "      <th>2</th>\n",
       "      <td>B</td>\n",
       "      <td>9</td>\n",
       "      <td>13</td>\n",
       "      <td>133</td>\n",
       "      <td>1326</td>\n",
       "      <td>0.143</td>\n",
       "      <td>0.079</td>\n",
       "      <td>0.181</td>\n",
       "      <td>0.057</td>\n",
       "    </tr>\n",
       "    <tr>\n",
       "      <th>3</th>\n",
       "      <td>M</td>\n",
       "      <td>21</td>\n",
       "      <td>27</td>\n",
       "      <td>130</td>\n",
       "      <td>1203</td>\n",
       "      <td>0.125</td>\n",
       "      <td>0.160</td>\n",
       "      <td>0.207</td>\n",
       "      <td>0.060</td>\n",
       "    </tr>\n",
       "    <tr>\n",
       "      <th>4</th>\n",
       "      <td>M</td>\n",
       "      <td>14</td>\n",
       "      <td>16</td>\n",
       "      <td>78</td>\n",
       "      <td>386</td>\n",
       "      <td>0.070</td>\n",
       "      <td>0.284</td>\n",
       "      <td>0.260</td>\n",
       "      <td>0.097</td>\n",
       "    </tr>\n",
       "    <tr>\n",
       "      <th>5</th>\n",
       "      <td>M</td>\n",
       "      <td>9</td>\n",
       "      <td>19</td>\n",
       "      <td>135</td>\n",
       "      <td>1297</td>\n",
       "      <td>0.141</td>\n",
       "      <td>0.133</td>\n",
       "      <td>0.181</td>\n",
       "      <td>0.059</td>\n",
       "    </tr>\n",
       "  </tbody>\n",
       "</table>\n",
       "</div>"
      ],
      "text/plain": [
       "   diagnosis_result  radius  texture  perimeter  area  smoothness  \\\n",
       "id                                                                  \n",
       "1                 M      23       12        151   954       0.143   \n",
       "2                 B       9       13        133  1326       0.143   \n",
       "3                 M      21       27        130  1203       0.125   \n",
       "4                 M      14       16         78   386       0.070   \n",
       "5                 M       9       19        135  1297       0.141   \n",
       "\n",
       "    compactness  symmetry  fractal_dimension  \n",
       "id                                            \n",
       "1         0.278     0.242              0.079  \n",
       "2         0.079     0.181              0.057  \n",
       "3         0.160     0.207              0.060  \n",
       "4         0.284     0.260              0.097  \n",
       "5         0.133     0.181              0.059  "
      ]
     },
     "execution_count": 3,
     "metadata": {},
     "output_type": "execute_result"
    }
   ],
   "source": [
    "cancer_df = pd.read_csv('datasets/ProstateCancer.csv', index_col='id')\n",
    "cancer_df.head()"
   ]
  },
  {
   "cell_type": "code",
   "execution_count": 4,
   "id": "ba302f43",
   "metadata": {},
   "outputs": [
    {
     "data": {
      "text/plain": [
       "False"
      ]
     },
     "execution_count": 4,
     "metadata": {},
     "output_type": "execute_result"
    }
   ],
   "source": [
    "# Check for null values\n",
    "cancer_df.isnull().values.all()"
   ]
  },
  {
   "cell_type": "code",
   "execution_count": 5,
   "id": "27089b18",
   "metadata": {},
   "outputs": [],
   "source": [
    "cancer_df.loc[cancer_df['diagnosis_result'] == 'B', 'diagnosis_result'] = 0\n",
    "cancer_df.loc[cancer_df['diagnosis_result'] == 'M', 'diagnosis_result'] = 1"
   ]
  },
  {
   "cell_type": "code",
   "execution_count": 6,
   "id": "205f4ad3",
   "metadata": {},
   "outputs": [
    {
     "name": "stdout",
     "output_type": "stream",
     "text": [
      "Benign Diagnosis: 38\n",
      "Malignant Diagnosis: 62\n"
     ]
    }
   ],
   "source": [
    "_, counts = np.unique(cancer_df['diagnosis_result'], return_counts=True)\n",
    "print(f'Benign Diagnosis: {counts[0]}')\n",
    "print(f'Malignant Diagnosis: {counts[1]}')"
   ]
  },
  {
   "cell_type": "markdown",
   "id": "e28dd64e",
   "metadata": {},
   "source": [
    "#### X, y"
   ]
  },
  {
   "cell_type": "code",
   "execution_count": 7,
   "id": "e7216e55",
   "metadata": {},
   "outputs": [],
   "source": [
    "X = cancer_df.drop('diagnosis_result', axis=1).to_numpy()\n",
    "y = cancer_df['diagnosis_result'].to_numpy().astype(int)"
   ]
  },
  {
   "cell_type": "markdown",
   "id": "8b3944b3",
   "metadata": {},
   "source": [
    "#### Feature Scaling"
   ]
  },
  {
   "cell_type": "code",
   "execution_count": null,
   "id": "c2fb4603",
   "metadata": {},
   "outputs": [],
   "source": [
    "X_scaled = StandardScaler().fit_transform(X)"
   ]
  },
  {
   "cell_type": "markdown",
   "id": "9193a73b",
   "metadata": {},
   "source": [
    "#### Train-Test Split"
   ]
  },
  {
   "cell_type": "code",
   "execution_count": null,
   "id": "141ff2b1",
   "metadata": {},
   "outputs": [],
   "source": [
    "X_train, X_test, y_train, y_test = train_test_split(X_scaled, y, test_size=0.2, random_state=42)"
   ]
  },
  {
   "cell_type": "markdown",
   "id": "c4e8d24c",
   "metadata": {},
   "source": [
    "#### Polynomial Features\n",
    "\n",
    "Three polynomial features will be added to the data set."
   ]
  },
  {
   "cell_type": "code",
   "execution_count": null,
   "id": "fd11a6a4",
   "metadata": {},
   "outputs": [],
   "source": [
    "polynomial_features = PolynomialFeatures(3).fit(X_train)\n",
    "X_train_poly = polynomial_features.transform(X_train)\n",
    "X_test_poly = polynomial_features.transform(X_test)"
   ]
  },
  {
   "cell_type": "markdown",
   "id": "d912ff10",
   "metadata": {},
   "source": [
    "#### LDA transformation\n",
    "\n",
    "The data with polynomial features will be transformed into a $(n-1) \\times 1$ vector with LDA, where $n$ is the number of classes. As $n=1$, the transformation results into a unidimensional feature vector."
   ]
  },
  {
   "cell_type": "code",
   "execution_count": null,
   "id": "9917a408",
   "metadata": {},
   "outputs": [],
   "source": [
    "lda_transformation = LDA().fit(X_train_poly, y_train)\n",
    "X_train_transformed = lda_transformation.transform(X_train_poly)\n",
    "X_test_transformed = lda_transformation.transform(X_test_poly)"
   ]
  },
  {
   "cell_type": "markdown",
   "id": "4b24fc0b",
   "metadata": {},
   "source": [
    "# Model Comparison"
   ]
  },
  {
   "cell_type": "markdown",
   "id": "63d70167",
   "metadata": {},
   "source": [
    "Several machine learning models will be compared, along with a dummy classifier which always predicts \"malignant\"."
   ]
  },
  {
   "cell_type": "markdown",
   "id": "510860aa",
   "metadata": {},
   "source": [
    "## Evaluation Metric\n",
    "\n",
    "The accuracy is not an appropriate metric to evaluate the algorithm's performance, as the fraction of observation well-diagnosed is not relevant to the study. In an imbalanced set, classifying correctly the most frequent class and misclassifying the second class makes the algorithm useless. Instead, it is of interest to know\n",
    "\n",
    "* How many people were labeled as cancer-positive from all the actual cancer-positive people (precision).\n",
    "\n",
    "* From all the people labeld as cancer-positive, how many of them actually have cancer (recall).\n",
    " \n",
    "The harmonical mean between precision and recall, the F1-Score, will be used as evaluation metric."
   ]
  },
  {
   "cell_type": "markdown",
   "id": "fd2319a9",
   "metadata": {},
   "source": [
    "## Train with Repeated Stratified K-Fold Cross-validation"
   ]
  },
  {
   "cell_type": "code",
   "execution_count": 15,
   "id": "f04968e4",
   "metadata": {},
   "outputs": [],
   "source": [
    "cv = RepeatedStratifiedKFold(n_splits=10, n_repeats=300, random_state=1)\n",
    "\n",
    "algorithms = [DummyClassifier(strategy=\"most_frequent\"), RF(), AB(), GB(), LDA(), NB(), LR(), SVC(), kNN(), DT()]\n",
    "\n",
    "names = ['Most Frequent', 'Random Forest', 'AdaBoost', 'Gradient Boosting', 'LDA', 'Naive Bayes', 'Logistic Regression', 'SVM', 'kNN', 'DT']"
   ]
  },
  {
   "cell_type": "code",
   "execution_count": 9,
   "id": "70cf6cae",
   "metadata": {},
   "outputs": [
    {
     "data": {
      "application/vnd.jupyter.widget-view+json": {
       "model_id": "183a520033cc4c6f86951486b67b1b9f",
       "version_major": 2,
       "version_minor": 0
      },
      "text/plain": [
       "  0%|          | 0/10 [00:00<?, ?it/s]"
      ]
     },
     "metadata": {},
     "output_type": "display_data"
    }
   ],
   "source": [
    "f1_lists = []\n",
    "for algorithm in tqdm(algorithms):\n",
    "    \n",
    "    if algorithm.__class__.__name__== 'DummyClassifier':\n",
    "        cv_results = cross_validate(algorithm, X_train, y_train, scoring={'f1': 'f1'}, cv=cv, n_jobs=-1)\n",
    "        f1_lists.append(cv_results['test_f1'])\n",
    "        continue\n",
    "        \n",
    "    cv_results = cross_validate(algorithm, X_train_transformed, y_train, scoring={'f1': 'f1'}, cv=cv, n_jobs=-1)\n",
    "    f1_lists.append(cv_results['test_f1'])"
   ]
  },
  {
   "cell_type": "markdown",
   "id": "74c3f003",
   "metadata": {},
   "source": [
    "## Confidence Intervals for Mean of F1-Score"
   ]
  },
  {
   "cell_type": "code",
   "execution_count": 26,
   "id": "136ed528",
   "metadata": {},
   "outputs": [
    {
     "data": {
      "image/png": "[encoded data removed]",
      "text/plain": [
       "<Figure size 1152x288 with 1 Axes>"
      ]
     },
     "metadata": {
      "needs_background": "light"
     },
     "output_type": "display_data"
    }
   ],
   "source": [
    "ax = sns.pointplot(data=f1_lists, estimator=np.mean, join=False, capsize=0.2, scale=0.7)\n",
    "ax.set_xticklabels(names, fontsize=12, rotation=15)\n",
    "plt.ylabel('F1-Score')\n",
    "plt.title('95% CI for Mean of F1-Score of Different Algorithms')\n",
    "plt.tight_layout()\n",
    "plt.show()"
   ]
  },
  {
   "cell_type": "code",
   "execution_count": 17,
   "id": "32ac768e",
   "metadata": {},
   "outputs": [
    {
     "name": "stdout",
     "output_type": "stream",
     "text": [
      "95% CI for Mean of F1-Score\n",
      "\n",
      "(0.726, 0.730) - Most Frequent\n",
      "(0.952, 0.957) - Random Forest\n",
      "(0.952, 0.957) - AdaBoost\n",
      "(0.952, 0.957) - Gradient Boosting\n",
      "(0.976, 0.980) - LDA\n",
      "(0.964, 0.968) - Naive Bayes\n",
      "(0.974, 0.978) - Logistic Regression\n",
      "(0.955, 0.959) - SVM\n",
      "(0.949, 0.954) - kNN\n",
      "(0.952, 0.957) - DT\n"
     ]
    }
   ],
   "source": [
    "bootstrap_samples = 10_000\n",
    "\n",
    "print('95% CI for Mean of F1-Score\\n')\n",
    "\n",
    "for f1, name in zip(f1_lists, names):\n",
    "    f1_bootstrapped = np.random.choice(f1, size=(len(f1), bootstrap_samples))\n",
    "    f1_bootstrapped_mean = f1_bootstrapped.mean(axis=0)\n",
    "    print(f'({np.quantile(f1_bootstrapped_mean, 0.025):.3f}, {np.quantile(f1_bootstrapped_mean, 0.975):.3f}) - {name}')"
   ]
  },
  {
   "cell_type": "markdown",
   "id": "29c19f04",
   "metadata": {},
   "source": [
    "## Test\n",
    "\n",
    "Linear Discriminant Analysis will be chosen as the optimal classification algorithm."
   ]
  },
  {
   "cell_type": "code",
   "execution_count": 23,
   "id": "6cdeec49",
   "metadata": {},
   "outputs": [
    {
     "data": {
      "text/plain": [
       "0.9032258064516129"
      ]
     },
     "execution_count": 23,
     "metadata": {},
     "output_type": "execute_result"
    }
   ],
   "source": [
    "y_hat = LDA().fit(X_train_transformed, y_train).predict(X_test_transformed)\n",
    "f1_score(y_test, y_hat)"
   ]
  },
  {
   "cell_type": "code",
   "execution_count": 33,
   "id": "4e756f64",
   "metadata": {},
   "outputs": [
    {
     "data": {
      "image/png": "[encoded data removed]",
      "text/plain": [
       "<Figure size 1152x288 with 1 Axes>"
      ]
     },
     "metadata": {
      "needs_background": "light"
     },
     "output_type": "display_data"
    }
   ],
   "source": [
    "plot_roc_curve(LDA().fit(X_train_transformed, y_train), X_test_transformed, y_test)  \n",
    "plt.xlabel('False Positive Rate')\n",
    "plt.ylabel('Recall')\n",
    "plt.title('ROC Curve')\n",
    "plt.tight_layout()\n",
    "plt.show()"
   ]
  },
  {
   "cell_type": "markdown",
   "id": "54609fe5",
   "metadata": {},
   "source": [
    "# References\n",
    "\n",
    "https://www.kaggle.com/sajidsaifi/prostate-cancer?select=Prostate_Cancer.csv"
   ]
  }
 ],
 "metadata": {
  "kernelspec": {
   "display_name": "Python 3",
   "language": "python",
   "name": "python3"
  },
  "language_info": {
   "codemirror_mode": {
    "name": "ipython",
    "version": 3
   },
   "file_extension": ".py",
   "mimetype": "text/x-python",
   "name": "python",
   "nbconvert_exporter": "python",
   "pygments_lexer": "ipython3",
   "version": "3.8.10"
  }
 },
 "nbformat": 4,
 "nbformat_minor": 5
}
